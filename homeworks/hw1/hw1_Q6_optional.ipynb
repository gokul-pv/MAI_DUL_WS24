{
 "cells": [
  {
   "cell_type": "markdown",
   "metadata": {
    "id": "Rdy1FtrRpGcC"
   },
   "source": [
    "# Getting Started\n",
    "\n",
    "Follow the general instructions from hw1_Q1"
   ]
  },
  {
   "cell_type": "code",
   "execution_count": null,
   "metadata": {},
   "outputs": [],
   "source": [
    "# get to the parent dir of mai_dul repo\n",
    "import os\n",
    "os.chdir('../../')\n",
    "os.getcwd()"
   ]
  },
  {
   "cell_type": "code",
   "execution_count": null,
   "metadata": {},
   "outputs": [],
   "source": [
    "# run only once at the beginning of working on hw1\n",
    "# !unzip -qq homeworks/hw1/data/hw1_data.zip -d homeworks/hw1/data/\n",
    "\n",
    "# install latest version deepul package\n",
    "!pip install -e ."
   ]
  },
  {
   "cell_type": "code",
   "execution_count": 2,
   "metadata": {
    "id": "ZHWosWrbpO5Y"
   },
   "outputs": [],
   "source": [
    "import numpy as np\n",
    "from deepul.hw1_helper import (\n",
    "    # Q1\n",
    "    visualize_q1_data,\n",
    "    q1_sample_data_1,\n",
    "    q1_sample_data_2,\n",
    "    q1_save_results,\n",
    "    # Q2\n",
    "    q2a_save_results,\n",
    "    q2b_save_results,\n",
    "    visualize_q2a_data,\n",
    "    visualize_q2b_data,\n",
    "    # Q3\n",
    "    q3ab_save_results,\n",
    "    q3c_save_results,\n",
    "    # Q4\n",
    "    q4a_save_results,\n",
    "    q4b_save_results,\n",
    "    # Q5\n",
    "    visualize_q5_data,\n",
    "    q5a_save_results,\n",
    "    # Q6\n",
    "    visualize_q6_data,\n",
    "    q6a_save_results,\n",
    ")"
   ]
  },
  {
   "cell_type": "markdown",
   "metadata": {
    "id": "LMZLcaHwLNNL"
   },
   "source": [
    "# Question 6: Causal Transformer: Multimodal - optional"
   ]
  },
  {
   "cell_type": "markdown",
   "metadata": {},
   "source": [
    "So far, we have been dealing only with autoregressive generation of a single modality. Now we will train a model that operates on multiple modalities!\n",
    "\n",
    "We will use the text labeled colored MNIST dataset, which has a text description of the MNIST image. Run the cell below to visualize the data along with the text annotation. This is the Colored MNIST v2 dataset, which also comes with these text labels."
   ]
  },
  {
   "cell_type": "code",
   "execution_count": null,
   "metadata": {},
   "outputs": [],
   "source": [
    "visualize_q6_data()"
   ]
  },
  {
   "cell_type": "markdown",
   "metadata": {},
   "source": [
    "## Part (a) Multimodal Text and Image Generation\n",
    "Implement and train an autoregressive (AR) model capable of handling both text and image data. The model should be designed to process sequences composed of concatenated text and image tokens in both orders (text followed by images and images followed by text). Additionally, the model should be capable of generating unconditional text and image samples.\n",
    "\n",
    "Data Preprocessing:\n",
    "* Text Tokens: Map each unique word in the text data to a unique token. (Note that all text descriptions contain the exact same amount of words. This simplifies text processing, as you won't have to deal with sequences of different lengths as in Question 5)\n",
    "* Image Tokens: Quantize the image data into tokens using the VQVAE tokenizer from Problem 4.\n",
    "* In this problem, we have 2 modalities. Introduce an **\\<end of text\\>** token and an **\\<end of image\\>** token. After seeing such a token, the model should switch to sampling the next modality.\n",
    "* Formulate batches as sequences of concat([**\\<end of image\\>**, text_tokens, **\\<end of text\\>**, image_tokens]) and concat([**\\<end of text\\>**, image_tokens, **\\<end of image\\>**, text_tokens]). With a 50/50 split between each ordering.\n",
    "\n",
    "Inference:\n",
    "* During inference, we cannot mix modality tokens. During sampling we can restrict the logits to only be within the relevant modality.\n",
    "* After **\\<end of image\\>**, only allow the model to sample text tokens (including **\\<end of text\\>**)\n",
    "* After **\\<end of text\\>**, only allow the model to sample image tokens (including **\\<end of image\\>**)\n",
    "* At the very start (conditioned on the **\\<bos\\>** token, only allow the model to sample one of (**\\<end of image\\>** or **\\<end of text\\>**))\n",
    "* As the model may not always correctly sample the **\\<end of image\\>** token before the image ends, you may add a rule to force the model to always sample the correct number of image tokens (49 tokens).\n",
    "\n",
    "You can use the same hyperparameters as in 4(b) (but of course, feel free to tune your model to achieve better performance)\n",
    "\n",
    "**You will provide these deliverables**\n",
    "\n",
    "1. Over the course of training, record the average negative log-likelihood (nats / dim) of the training data (per minibatch) and test data (for your entire test set). Code is provided that automatically plots the training curves. \n",
    "2. Report the final test set performance of your final model\n",
    "3. 9 conditional samples based on provided text.\n",
    "4. 9 conditional samples based on provided images.\n",
    "5. 9 unconditional samples showcasing the model's capability in generating standalone text and images."
   ]
  },
  {
   "cell_type": "code",
   "execution_count": null,
   "metadata": {},
   "outputs": [],
   "source": [
    "def q6_a(train_data, test_data, image_shape, train_text, test_text, image_test_prompt, text_test_prompt, vqvae):\n",
    "  \"\"\"\n",
    "  train_data: A (n_train, H, W, C) uint8 numpy array of color images with values in {0, 1, 2, 3}\n",
    "  test_data: A (n_test, H, W, C) uint8 numpy array of color images with values in {0, 1, 2, 3}\n",
    "  image_shape: tuple (H, W, C) The shape of the images in the dataset, indicating height, width, and number of color channels.\n",
    "  train_text: list[str] Text data associated with each training image.\n",
    "  test_text: list[str] Text data associated with each test image.\n",
    "  image_test_prompt: (9, H, W, C) Image data used for generating conditional text samples during testing.\n",
    "  text_test_prompt: list of 9 strings Text prompts used for generating conditional image samples during testing.\n",
    "  vqvae: a vqvae model, trained on the relevant dataset\n",
    "\n",
    "  Returns\n",
    "  - a (# of training iterations,) numpy array of train_losses evaluated every minibatch\n",
    "  - a (# of epochs + 1,) numpy array of test_losses evaluated once at initialization and after each epoch\n",
    "  - a list of 9 (image, text), corresponding to the image conditioned samples\n",
    "  - a list of 9 (image, text), corresponding to the text conditions samples\n",
    "  - a list of 9 (image, text), corresponding to unconditional samples\n",
    "  \"\"\"\n",
    "  return train_losses, test_losses, samples_image_conditioned, samples_text_conditioned, samples_unconditioned"
   ]
  },
  {
   "cell_type": "markdown",
   "metadata": {
    "id": "mGp2OsLKiToN"
   },
   "source": [
    "### Results\n",
    "\n",
    "Once you've implemented `q6_a`, execute the cells below to visualize and save your results\n",
    "\n"
   ]
  },
  {
   "cell_type": "code",
   "execution_count": null,
   "metadata": {
    "colab": {
     "base_uri": "https://localhost:8080/",
     "height": 577
    },
    "id": "kW-k-59qJaKN",
    "outputId": "78b08f6a-12db-46b7-ac27-a07693a9cd09"
   },
   "outputs": [],
   "source": [
    "q6a_save_results(q6_a)"
   ]
  }
 ],
 "metadata": {
  "accelerator": "GPU",
  "colab": {
   "collapsed_sections": [],
   "include_colab_link": true,
   "name": " Homework 1 Autoregressive Models (Solutions).ipynb",
   "provenance": [],
   "toc_visible": true
  },
  "kernelspec": {
   "display_name": "Python 3 (ipykernel)",
   "language": "python",
   "name": "python3"
  },
  "language_info": {
   "codemirror_mode": {
    "name": "ipython",
    "version": 3
   },
   "file_extension": ".py",
   "mimetype": "text/x-python",
   "name": "python",
   "nbconvert_exporter": "python",
   "pygments_lexer": "ipython3",
   "version": "3.12.4"
  }
 },
 "nbformat": 4,
 "nbformat_minor": 4
}
